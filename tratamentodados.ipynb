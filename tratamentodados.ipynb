{
 "cells": [
  {
   "cell_type": "code",
   "execution_count": 1,
   "id": "aaa2e697-998d-476d-a233-ffa2af261e5f",
   "metadata": {},
   "outputs": [],
   "source": [
    "import numpy as np\n",
    "import pandas as pd"
   ]
  },
  {
   "cell_type": "code",
   "execution_count": 2,
   "id": "d3f9d5a4-e3de-4843-8651-cacb5d029bda",
   "metadata": {},
   "outputs": [],
   "source": [
    "dataframe = pd.read_excel('C:\\\\Users\\\\Gabriel\\\\Documents\\\\PRH\\\\Jupyter\\\\Produção Nordeste 2023.xlsx')"
   ]
  },
  {
   "cell_type": "code",
   "execution_count": 3,
   "id": "c5f3515a-144d-4886-9eb6-01009edf9a58",
   "metadata": {},
   "outputs": [
    {
     "name": "stdout",
     "output_type": "stream",
     "text": [
      "       Estados Produto             Mês      Variável    Valor    Unidade\n",
      "0     Maranhão   Total    janeiro 2023  Área colhida  1963737   Hectares\n",
      "1     Maranhão   Total             NaN      Produção       ..  Toneladas\n",
      "2     Maranhão   Total  fevereiro 2023  Área colhida  1964371   Hectares\n",
      "3     Maranhão   Total             NaN      Produção       ..  Toneladas\n",
      "4     Maranhão   Total      março 2023  Área colhida  1974240   Hectares\n",
      "...        ...     ...             ...           ...      ...        ...\n",
      "7339     Bahia     Uva             NaN      Produção    65555  Toneladas\n",
      "7340     Bahia     Uva   novembro 2023  Área colhida     1869   Hectares\n",
      "7341     Bahia     Uva             NaN      Produção    65555  Toneladas\n",
      "7342     Bahia     Uva   dezembro 2023  Área colhida     1869   Hectares\n",
      "7343     Bahia     Uva             NaN      Produção    65555  Toneladas\n",
      "\n",
      "[7344 rows x 6 columns]\n"
     ]
    }
   ],
   "source": [
    "print(dataframe)"
   ]
  },
  {
   "cell_type": "code",
   "execution_count": 4,
   "id": "85e09f5e-36bc-4a3f-af63-edfeaa4dd10d",
   "metadata": {},
   "outputs": [],
   "source": [
    "dataframe = dataframe[~dataframe['Valor'].astype(str).str.contains('-')]\n",
    "    "
   ]
  },
  {
   "cell_type": "code",
   "execution_count": 5,
   "id": "7302233a-c55e-4cda-8d2d-7e498979b56a",
   "metadata": {},
   "outputs": [],
   "source": [
    "dataframe = dataframe[~dataframe['Produto'].astype(str).str.contains('Total')]\n",
    "dataframe = dataframe[~dataframe['Produto'].astype(str).str.contains('Cereais, leguminosas e oleaginosas')]"
   ]
  },
  {
   "cell_type": "code",
   "execution_count": 6,
   "id": "193d8fc1-0a0e-453b-9722-4cb07543e548",
   "metadata": {},
   "outputs": [
    {
     "name": "stdout",
     "output_type": "stream",
     "text": [
      "       Estados           Produto             Mês      Variável   Valor  \\\n",
      "48    Maranhão  Algodão herbáceo    janeiro 2023  Área colhida   27535   \n",
      "49    Maranhão  Algodão herbáceo    janeiro 2023      Produção  112488   \n",
      "50    Maranhão  Algodão herbáceo  fevereiro 2023  Área colhida   27669   \n",
      "51    Maranhão  Algodão herbáceo  fevereiro 2023      Produção  113400   \n",
      "52    Maranhão  Algodão herbáceo      março 2023  Área colhida   27669   \n",
      "...        ...               ...             ...           ...     ...   \n",
      "7339     Bahia               Uva    outubro 2023      Produção   65555   \n",
      "7340     Bahia               Uva   novembro 2023  Área colhida    1869   \n",
      "7341     Bahia               Uva   novembro 2023      Produção   65555   \n",
      "7342     Bahia               Uva   dezembro 2023  Área colhida    1869   \n",
      "7343     Bahia               Uva   dezembro 2023      Produção   65555   \n",
      "\n",
      "        Unidade  \n",
      "48     Hectares  \n",
      "49    Toneladas  \n",
      "50     Hectares  \n",
      "51    Toneladas  \n",
      "52     Hectares  \n",
      "...         ...  \n",
      "7339  Toneladas  \n",
      "7340   Hectares  \n",
      "7341  Toneladas  \n",
      "7342   Hectares  \n",
      "7343  Toneladas  \n",
      "\n",
      "[3296 rows x 6 columns]\n"
     ]
    },
    {
     "name": "stderr",
     "output_type": "stream",
     "text": [
      "C:\\Users\\Gabriel\\AppData\\Local\\Temp\\ipykernel_5872\\4219542626.py:1: FutureWarning: Series.fillna with 'method' is deprecated and will raise in a future version. Use obj.ffill() or obj.bfill() instead.\n",
      "  dataframe['Mês'].fillna(method='ffill', inplace=True)\n"
     ]
    }
   ],
   "source": [
    "dataframe['Mês'].fillna(method='ffill', inplace=True)\n",
    "print(dataframe)"
   ]
  },
  {
   "cell_type": "code",
   "execution_count": 7,
   "id": "a2634ebc-c3cb-40c1-8301-b3080e9fd1ee",
   "metadata": {},
   "outputs": [],
   "source": [
    "df_area_colhida = dataframe[dataframe['Variável'] == 'Área colhida'].drop(columns='Variável').reset_index(drop=True)\n",
    "df_producao = dataframe[dataframe['Variável'] == 'Produção'].drop(columns='Variável').reset_index(drop=True)\n",
    "\n",
    "\n",
    "df_final = pd.merge(df_area_colhida, df_producao, on=['Estados', 'Produto', 'Mês'], suffixes=('_Área_colhida', '_Produção'))\n"
   ]
  },
  {
   "cell_type": "code",
   "execution_count": 8,
   "id": "a3673ae1-4521-4e6e-8edf-def37d158e30",
   "metadata": {},
   "outputs": [
    {
     "name": "stdout",
     "output_type": "stream",
     "text": [
      "       Estados           Produto             Mês Valor_Área_colhida  \\\n",
      "0     Maranhão  Algodão herbáceo    janeiro 2023              27535   \n",
      "1     Maranhão  Algodão herbáceo  fevereiro 2023              27669   \n",
      "2     Maranhão  Algodão herbáceo      março 2023              27669   \n",
      "3     Maranhão  Algodão herbáceo      abril 2023              27669   \n",
      "4     Maranhão  Algodão herbáceo       maio 2023              27669   \n",
      "...        ...               ...             ...                ...   \n",
      "1643     Bahia               Uva     agosto 2023               1869   \n",
      "1644     Bahia               Uva   setembro 2023               1869   \n",
      "1645     Bahia               Uva    outubro 2023               1869   \n",
      "1646     Bahia               Uva   novembro 2023               1869   \n",
      "1647     Bahia               Uva   dezembro 2023               1869   \n",
      "\n",
      "     Unidade_Área_colhida Valor_Produção Unidade_Produção  \n",
      "0                Hectares         112488        Toneladas  \n",
      "1                Hectares         113400        Toneladas  \n",
      "2                Hectares         113400        Toneladas  \n",
      "3                Hectares         113400        Toneladas  \n",
      "4                Hectares         113400        Toneladas  \n",
      "...                   ...            ...              ...  \n",
      "1643             Hectares          65555        Toneladas  \n",
      "1644             Hectares          65555        Toneladas  \n",
      "1645             Hectares          65555        Toneladas  \n",
      "1646             Hectares          65555        Toneladas  \n",
      "1647             Hectares          65555        Toneladas  \n",
      "\n",
      "[1648 rows x 7 columns]\n"
     ]
    }
   ],
   "source": [
    "print(df_final)"
   ]
  },
  {
   "cell_type": "code",
   "execution_count": 15,
   "id": "ad780f90-5a39-4435-8530-b93870cd59b9",
   "metadata": {},
   "outputs": [
    {
     "name": "stdout",
     "output_type": "stream",
     "text": [
      "     Estados              Produto Valor_Área_colhida Valor_Produção\n",
      "0    Alagoas     Algodão herbáceo               3532           7413\n",
      "1    Alagoas  Amendoim (1ª Safra)               1516           3068\n",
      "2    Alagoas  Amendoim (2ª Safra)              24462          51248\n",
      "3    Alagoas                Arroz              38560         272534\n",
      "4    Alagoas               Banana             116350        1384344\n",
      "..       ...                  ...                ...            ...\n",
      "134  Sergipe       Cana-de-açúcar             455882       24213613\n",
      "135  Sergipe    Feijão (2ª Safra)              39560          24009\n",
      "136  Sergipe              Laranja             372426        4422580\n",
      "137  Sergipe             Mandioca             136776        1922120\n",
      "138  Sergipe     Milho (2ª Safra)            2024163       10161402\n",
      "\n",
      "[139 rows x 4 columns]\n"
     ]
    }
   ],
   "source": [
    "resultado = df_final.groupby(['Estados', 'Produto']).agg({'Valor_Área_colhida': 'sum', 'Valor_Produção': 'sum'}).reset_index()\n",
    "print(resultado)"
   ]
  },
  {
   "cell_type": "code",
   "execution_count": null,
   "id": "9fedb6d9-3ed8-4c54-83cf-bdcc54da9edc",
   "metadata": {},
   "outputs": [],
   "source": []
  }
 ],
 "metadata": {
  "kernelspec": {
   "display_name": "Python 3 (ipykernel)",
   "language": "python",
   "name": "python3"
  },
  "language_info": {
   "codemirror_mode": {
    "name": "ipython",
    "version": 3
   },
   "file_extension": ".py",
   "mimetype": "text/x-python",
   "name": "python",
   "nbconvert_exporter": "python",
   "pygments_lexer": "ipython3",
   "version": "3.11.7"
  }
 },
 "nbformat": 4,
 "nbformat_minor": 5
}
