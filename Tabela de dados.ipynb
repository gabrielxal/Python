{
 "cells": [
  {
   "cell_type": "markdown",
   "id": "26da4618",
   "metadata": {},
   "source": [
    "ESSE CÓDIGO TEM A FUNÇÃO DE CONCATEAR TODOS DATAFRAMES GERADOS ANTERIORMENTE ( 9 ESTADOS DO NORDESTE)"
   ]
  },
  {
   "cell_type": "code",
   "execution_count": 1,
   "id": "ea8e4d3d-e854-4d5f-872a-44133e7158b7",
   "metadata": {},
   "outputs": [],
   "source": [
    "import pandas as pd"
   ]
  },
  {
   "cell_type": "code",
   "execution_count": 2,
   "id": "117a5518-fbbd-49a1-9391-9a1907df901b",
   "metadata": {},
   "outputs": [],
   "source": [
    "df1 = pd.read_excel(\"C:\\\\Users\\\\Aluno\\\\Documents\\\\Gabriel\\\\PRH 55.1\\\\Mapeamento - Banco de dados\\\\resultados 2022\\\\resultados ALAGOAS.xlsx\")\n",
    "df2 = pd.read_excel(\"C:\\\\Users\\\\Aluno\\\\Documents\\\\Gabriel\\\\PRH 55.1\\\\Mapeamento - Banco de dados\\\\resultados 2022\\\\ resultados BAHIA.xlsx\")\n",
    "df3 = pd.read_excel(\"C:\\\\Users\\\\Aluno\\\\Documents\\\\Gabriel\\\\PRH 55.1\\\\Mapeamento - Banco de dados\\\\resultados 2022\\\\resultados CEARÁ.xlsx\")\n",
    "df4 = pd.read_excel(\"C:\\\\Users\\\\Aluno\\\\Documents\\\\Gabriel\\\\PRH 55.1\\\\Mapeamento - Banco de dados\\\\resultados 2022\\\\resultados MARANHÃO.xlsx\")\n",
    "df5 = pd.read_excel(\"C:\\\\Users\\\\Aluno\\\\Documents\\\\Gabriel\\\\PRH 55.1\\\\Mapeamento - Banco de dados\\\\resultados 2022\\\\resultados PARAÍBA.xlsx\")\n",
    "df6 = pd.read_excel(\"C:\\\\Users\\\\Aluno\\\\Documents\\\\Gabriel\\\\PRH 55.1\\\\Mapeamento - Banco de dados\\\\resultados 2022\\\\resultados PERNAMBUCO.xlsx\")\n",
    "df7 = pd.read_excel(\"C:\\\\Users\\\\Aluno\\\\Documents\\\\Gabriel\\\\PRH 55.1\\\\Mapeamento - Banco de dados\\\\resultados 2022\\\\resultados PIAUÍ.xlsx\")\n",
    "df8 = pd.read_excel(\"C:\\\\Users\\\\Aluno\\\\Documents\\\\Gabriel\\\\PRH 55.1\\\\Mapeamento - Banco de dados\\\\resultados 2022\\\\resultados RIO GRANDE DO NORTE.xlsx\")\n",
    "df9 = pd.read_excel(\"C:\\\\Users\\\\Aluno\\\\Documents\\\\Gabriel\\\\PRH 55.1\\\\Mapeamento - Banco de dados\\\\resultados 2022\\\\resultados SERGIPE.xlsx\")\n"
   ]
  },
  {
   "cell_type": "code",
   "execution_count": 3,
   "id": "3d44f0b6-0b67-4507-b140-b8ce42501b92",
   "metadata": {},
   "outputs": [],
   "source": [
    "DFS = [ df1, df2, df3, df4, df5, df6, df7, df8, df9]"
   ]
  },
  {
   "cell_type": "code",
   "execution_count": 4,
   "id": "0220e579-3761-4f3a-a106-726f89510b76",
   "metadata": {},
   "outputs": [],
   "source": [
    "df_concatenado = pd.concat(DFS, ignore_index=True, sort=False)"
   ]
  },
  {
   "cell_type": "code",
   "execution_count": null,
   "id": "46a237e1-ee82-4818-a6fd-e8608f0bc296",
   "metadata": {},
   "outputs": [],
   "source": [
    "df_concatenado.to_excel(\"C:\\\\Users\\\\Aluno\\\\Documents\\\\Gabriel\\\\PRH 55.1\\\\Mapeamento - Banco de dados\\\\resultados 2022\\\\tabela de resíduos.xlsx\")"
   ]
  },
  {
   "cell_type": "code",
   "execution_count": 6,
   "id": "50c825dc-e272-4b31-bbb8-bf625642df50",
   "metadata": {},
   "outputs": [
    {
     "data": {
      "text/html": [
       "<div>\n",
       "<style scoped>\n",
       "    .dataframe tbody tr th:only-of-type {\n",
       "        vertical-align: middle;\n",
       "    }\n",
       "\n",
       "    .dataframe tbody tr th {\n",
       "        vertical-align: top;\n",
       "    }\n",
       "\n",
       "    .dataframe thead th {\n",
       "        text-align: right;\n",
       "    }\n",
       "</style>\n",
       "<table border=\"1\" class=\"dataframe\">\n",
       "  <thead>\n",
       "    <tr style=\"text-align: right;\">\n",
       "      <th></th>\n",
       "      <th>Cidade</th>\n",
       "      <th>Área colhida (Hectares)</th>\n",
       "      <th>Produção (toneladas)</th>\n",
       "      <th>Nome</th>\n",
       "    </tr>\n",
       "  </thead>\n",
       "  <tbody>\n",
       "    <tr>\n",
       "      <th>0</th>\n",
       "      <td>Água Branca (AL)</td>\n",
       "      <td>2</td>\n",
       "      <td>21</td>\n",
       "      <td>Abacate</td>\n",
       "    </tr>\n",
       "    <tr>\n",
       "      <th>1</th>\n",
       "      <td>Anadia (AL)</td>\n",
       "      <td>10</td>\n",
       "      <td>80</td>\n",
       "      <td>Abacate</td>\n",
       "    </tr>\n",
       "    <tr>\n",
       "      <th>2</th>\n",
       "      <td>Boca da Mata (AL)</td>\n",
       "      <td>5</td>\n",
       "      <td>48</td>\n",
       "      <td>Abacate</td>\n",
       "    </tr>\n",
       "    <tr>\n",
       "      <th>3</th>\n",
       "      <td>Campo Alegre (AL)</td>\n",
       "      <td>5</td>\n",
       "      <td>56</td>\n",
       "      <td>Abacate</td>\n",
       "    </tr>\n",
       "    <tr>\n",
       "      <th>4</th>\n",
       "      <td>Chã Preta (AL)</td>\n",
       "      <td>2</td>\n",
       "      <td>20</td>\n",
       "      <td>Abacate</td>\n",
       "    </tr>\n",
       "    <tr>\n",
       "      <th>...</th>\n",
       "      <td>...</td>\n",
       "      <td>...</td>\n",
       "      <td>...</td>\n",
       "      <td>...</td>\n",
       "    </tr>\n",
       "    <tr>\n",
       "      <th>16238</th>\n",
       "      <td>Pedrinhas (SE)</td>\n",
       "      <td>8</td>\n",
       "      <td>104</td>\n",
       "      <td>Tangerina</td>\n",
       "    </tr>\n",
       "    <tr>\n",
       "      <th>16239</th>\n",
       "      <td>Umbaúba (SE)</td>\n",
       "      <td>90</td>\n",
       "      <td>1350</td>\n",
       "      <td>Tangerina</td>\n",
       "    </tr>\n",
       "    <tr>\n",
       "      <th>16240</th>\n",
       "      <td>Lagarto (SE)</td>\n",
       "      <td>100</td>\n",
       "      <td>3600</td>\n",
       "      <td>Tomate</td>\n",
       "    </tr>\n",
       "    <tr>\n",
       "      <th>16241</th>\n",
       "      <td>Ribeirópolis (SE)</td>\n",
       "      <td>60</td>\n",
       "      <td>1560</td>\n",
       "      <td>Tomate</td>\n",
       "    </tr>\n",
       "    <tr>\n",
       "      <th>16242</th>\n",
       "      <td>Simão Dias (SE)</td>\n",
       "      <td>100</td>\n",
       "      <td>3500</td>\n",
       "      <td>Tomate</td>\n",
       "    </tr>\n",
       "  </tbody>\n",
       "</table>\n",
       "<p>16243 rows × 4 columns</p>\n",
       "</div>"
      ],
      "text/plain": [
       "                  Cidade Área colhida (Hectares) Produção (toneladas)  \\\n",
       "0       Água Branca (AL)                       2                   21   \n",
       "1            Anadia (AL)                      10                   80   \n",
       "2      Boca da Mata (AL)                       5                   48   \n",
       "3      Campo Alegre (AL)                       5                   56   \n",
       "4         Chã Preta (AL)                       2                   20   \n",
       "...                  ...                     ...                  ...   \n",
       "16238     Pedrinhas (SE)                       8                  104   \n",
       "16239       Umbaúba (SE)                      90                 1350   \n",
       "16240       Lagarto (SE)                     100                 3600   \n",
       "16241  Ribeirópolis (SE)                      60                 1560   \n",
       "16242    Simão Dias (SE)                     100                 3500   \n",
       "\n",
       "            Nome  \n",
       "0        Abacate  \n",
       "1        Abacate  \n",
       "2        Abacate  \n",
       "3        Abacate  \n",
       "4        Abacate  \n",
       "...          ...  \n",
       "16238  Tangerina  \n",
       "16239  Tangerina  \n",
       "16240     Tomate  \n",
       "16241     Tomate  \n",
       "16242     Tomate  \n",
       "\n",
       "[16243 rows x 4 columns]"
      ]
     },
     "metadata": {},
     "output_type": "display_data"
    }
   ],
   "source": [
    "display(df_concatenado)"
   ]
  },
  {
   "cell_type": "code",
   "execution_count": null,
   "id": "99e479f3-02fa-4722-9cac-ab2524edf2e4",
   "metadata": {},
   "outputs": [],
   "source": []
  }
 ],
 "metadata": {
  "kernelspec": {
   "display_name": "Python 3",
   "language": "python",
   "name": "python3"
  },
  "language_info": {
   "codemirror_mode": {
    "name": "ipython",
    "version": 3
   },
   "file_extension": ".py",
   "mimetype": "text/x-python",
   "name": "python",
   "nbconvert_exporter": "python",
   "pygments_lexer": "ipython3",
   "version": "3.11.4"
  }
 },
 "nbformat": 4,
 "nbformat_minor": 5
}
