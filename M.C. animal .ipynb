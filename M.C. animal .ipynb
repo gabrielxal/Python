{
 "cells": [
  {
   "cell_type": "code",
   "execution_count": 2,
   "id": "3ad42f40-5397-40dc-a0f7-dca6a677680a",
   "metadata": {},
   "outputs": [],
   "source": [
    "import pandas as pd\n",
    "import mitosheet"
   ]
  },
  {
   "cell_type": "code",
   "execution_count": null,
   "id": "7f6bb5c5-208f-4504-ba17-1ec1d8348939",
   "metadata": {},
   "outputs": [],
   "source": [
    "df = pd.read_excel(\""
   ]
  }
 ],
 "metadata": {
  "kernelspec": {
   "display_name": "Python 3 (ipykernel)",
   "language": "python",
   "name": "python3"
  },
  "language_info": {
   "codemirror_mode": {
    "name": "ipython",
    "version": 3
   },
   "file_extension": ".py",
   "mimetype": "text/x-python",
   "name": "python",
   "nbconvert_exporter": "python",
   "pygments_lexer": "ipython3",
   "version": "3.11.4"
  }
 },
 "nbformat": 4,
 "nbformat_minor": 5
}
