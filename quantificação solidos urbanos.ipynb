{
 "cells": [
  {
   "cell_type": "code",
   "execution_count": 1,
   "metadata": {},
   "outputs": [],
   "source": [
    "import pandas as pd\n",
    "import numpy as np"
   ]
  },
  {
   "cell_type": "code",
   "execution_count": 2,
   "metadata": {},
   "outputs": [
    {
     "data": {
      "text/html": [
       "<div>\n",
       "<style scoped>\n",
       "    .dataframe tbody tr th:only-of-type {\n",
       "        vertical-align: middle;\n",
       "    }\n",
       "\n",
       "    .dataframe tbody tr th {\n",
       "        vertical-align: top;\n",
       "    }\n",
       "\n",
       "    .dataframe thead th {\n",
       "        text-align: right;\n",
       "    }\n",
       "</style>\n",
       "<table border=\"1\" class=\"dataframe\">\n",
       "  <thead>\n",
       "    <tr style=\"text-align: right;\">\n",
       "      <th></th>\n",
       "      <th>Município</th>\n",
       "      <th>População (hab)</th>\n",
       "    </tr>\n",
       "  </thead>\n",
       "  <tbody>\n",
       "    <tr>\n",
       "      <th>0</th>\n",
       "      <td>Água Branca (AL)</td>\n",
       "      <td>19008</td>\n",
       "    </tr>\n",
       "    <tr>\n",
       "      <th>1</th>\n",
       "      <td>Anadia (AL)</td>\n",
       "      <td>13966</td>\n",
       "    </tr>\n",
       "    <tr>\n",
       "      <th>2</th>\n",
       "      <td>Arapiraca (AL)</td>\n",
       "      <td>234696</td>\n",
       "    </tr>\n",
       "    <tr>\n",
       "      <th>3</th>\n",
       "      <td>Atalaia (AL)</td>\n",
       "      <td>37512</td>\n",
       "    </tr>\n",
       "    <tr>\n",
       "      <th>4</th>\n",
       "      <td>Barra de Santo Antônio (AL)</td>\n",
       "      <td>16365</td>\n",
       "    </tr>\n",
       "    <tr>\n",
       "      <th>...</th>\n",
       "      <td>...</td>\n",
       "      <td>...</td>\n",
       "    </tr>\n",
       "    <tr>\n",
       "      <th>1789</th>\n",
       "      <td>Siriri (SE)</td>\n",
       "      <td>7834</td>\n",
       "    </tr>\n",
       "    <tr>\n",
       "      <th>1790</th>\n",
       "      <td>Telha (SE)</td>\n",
       "      <td>3274</td>\n",
       "    </tr>\n",
       "    <tr>\n",
       "      <th>1791</th>\n",
       "      <td>Tobias Barreto (SE)</td>\n",
       "      <td>50905</td>\n",
       "    </tr>\n",
       "    <tr>\n",
       "      <th>1792</th>\n",
       "      <td>Tomar do Geru (SE)</td>\n",
       "      <td>12012</td>\n",
       "    </tr>\n",
       "    <tr>\n",
       "      <th>1793</th>\n",
       "      <td>Umbaúba (SE)</td>\n",
       "      <td>23917</td>\n",
       "    </tr>\n",
       "  </tbody>\n",
       "</table>\n",
       "<p>1794 rows × 2 columns</p>\n",
       "</div>"
      ],
      "text/plain": [
       "                        Município  População (hab)\n",
       "0                Água Branca (AL)            19008\n",
       "1                     Anadia (AL)            13966\n",
       "2                  Arapiraca (AL)           234696\n",
       "3                    Atalaia (AL)            37512\n",
       "4     Barra de Santo Antônio (AL)            16365\n",
       "...                           ...              ...\n",
       "1789                  Siriri (SE)             7834\n",
       "1790                   Telha (SE)             3274\n",
       "1791          Tobias Barreto (SE)            50905\n",
       "1792           Tomar do Geru (SE)            12012\n",
       "1793                 Umbaúba (SE)            23917\n",
       "\n",
       "[1794 rows x 2 columns]"
      ]
     },
     "execution_count": 2,
     "metadata": {},
     "output_type": "execute_result"
    }
   ],
   "source": [
    "df = pd.read_excel(\"Nordeste população.xlsx\")\n",
    "df"
   ]
  },
  {
   "cell_type": "code",
   "execution_count": 3,
   "metadata": {},
   "outputs": [],
   "source": [
    "df[\"População (hab)\"] = df[\"População (hab)\"] * 0.40"
   ]
  },
  {
   "cell_type": "code",
   "execution_count": 4,
   "metadata": {},
   "outputs": [],
   "source": [
    "data_source = {\"produção biosolidos\":25.6, \"CF\":1, \"rendimento biochar\": 0.552}"
   ]
  },
  {
   "cell_type": "code",
   "execution_count": 5,
   "metadata": {},
   "outputs": [],
   "source": [
    "df[\"Resíduo Solido (t)\"]= (df[\"População (hab)\"] * data_source[\"produção biosolidos\"] * data_source[\"CF\"]) / 1000"
   ]
  },
  {
   "cell_type": "code",
   "execution_count": null,
   "metadata": {},
   "outputs": [],
   "source": [
    "\n",
    "desvio_padrao_rendimento = data_source[\"rendimento biochar\"] * 0.05  \n",
    "\n",
    "def monte_carlo_simulation(residuo_biomassa, n_iter = 10000):\n",
    "    resultados = []\n",
    "    for _ in range(n_iter):\n",
    "     \n",
    "        rendimento_conversao = np.random.normal(data_source[\"rendimento biochar\"], desvio_padrao_rendimento)\n",
    "        quantidade_biochar = residuo_biomassa * rendimento_conversao\n",
    "        resultados.append(quantidade_biochar)\n",
    "    \n",
    "   \n",
    "    return np.mean(resultados)\n",
    "\n",
    "def calcular_biochar_para_coluna(df, nome_coluna):\n",
    "    return df[nome_coluna].apply(monte_carlo_simulation)\n",
    "\n",
    "df[\"Biochar Solidos Urbanos (t)\"] = calcular_biochar_para_coluna(df, \"Resíduo Solido (t)\")"
   ]
  },
  {
   "cell_type": "code",
   "execution_count": 8,
   "metadata": {},
   "outputs": [],
   "source": [
    "df.to_excel('resultados.xlsx', index=False)"
   ]
  }
 ],
 "metadata": {
  "kernelspec": {
   "display_name": "base",
   "language": "python",
   "name": "python3"
  },
  "language_info": {
   "codemirror_mode": {
    "name": "ipython",
    "version": 3
   },
   "file_extension": ".py",
   "mimetype": "text/x-python",
   "name": "python",
   "nbconvert_exporter": "python",
   "pygments_lexer": "ipython3",
   "version": "3.11.7"
  }
 },
 "nbformat": 4,
 "nbformat_minor": 2
}
