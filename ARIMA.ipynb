{
 "cells": [
  {
   "cell_type": "code",
   "execution_count": 7,
   "id": "8fd4ec67-e897-41fc-ad45-3d9977c65605",
   "metadata": {},
   "outputs": [],
   "source": [
    "import pandas as pd\n",
    "import statsmodels.api as sm"
   ]
  },
  {
   "cell_type": "code",
   "execution_count": 11,
   "id": "c1103e4d-d272-4a23-b273-7e1ddcf63619",
   "metadata": {},
   "outputs": [],
   "source": [
    "df = pd.read_excel(\"C:\\\\Users\\\\Gabriel\\\\Desktop\\\\Jupyter mapeamento\\\\serietemporal.xlsx\")"
   ]
  },
  {
   "cell_type": "code",
   "execution_count": 12,
   "id": "71f34b1f-a4b0-4b16-9a10-82a828ad3a81",
   "metadata": {},
   "outputs": [
    {
     "name": "stdout",
     "output_type": "stream",
     "text": [
      "                                               Cultura     Mês  / Ano  \\\n",
      "0                                     Castanha de Caju  setembro 2006   \n",
      "1                                     Castanha de Caju   outubro 2006   \n",
      "2                                     Castanha de Caju  novembro 2006   \n",
      "3                                     Castanha de Caju  dezembro 2006   \n",
      "4                                     Castanha de Caju   janeiro 2007   \n",
      "..                                                 ...            ...   \n",
      "213                                   Castanha de Caju     junho 2024   \n",
      "214                                   Castanha de Caju     julho 2024   \n",
      "215                                   Castanha de Caju    agosto 2024   \n",
      "216                                                NaN            NaN   \n",
      "217  Fonte: IBGE - Levantamento Sistemático da Prod...            NaN   \n",
      "\n",
      "     Produção (t)  Unnamed: 3  Unnamed: 4 Unnamed: 5  \n",
      "0        254925.0         NaN         NaN        NaN  \n",
      "1        256149.0         NaN         NaN             \n",
      "2        237371.0         NaN         NaN        NaN  \n",
      "3        236140.0         NaN         NaN        NaN  \n",
      "4        253623.0         NaN         NaN        NaN  \n",
      "..            ...         ...         ...        ...  \n",
      "213      132744.0         NaN         NaN        NaN  \n",
      "214      144674.0         NaN         NaN        NaN  \n",
      "215      150576.0         NaN         NaN        NaN  \n",
      "216           NaN         NaN         NaN        NaN  \n",
      "217           NaN         NaN         NaN        NaN  \n",
      "\n",
      "[218 rows x 6 columns]\n"
     ]
    }
   ],
   "source": [
    "print(df)"
   ]
  },
  {
   "cell_type": "code",
   "execution_count": 13,
   "id": "21e7dc12-d19c-4a2c-834c-d03d6268e22b",
   "metadata": {},
   "outputs": [],
   "source": [
    "modelo = sm.tsa.ARIMA(df [\"Produção (t)\"], order=(1,1,1))"
   ]
  },
  {
   "cell_type": "code",
   "execution_count": 16,
   "id": "7e2169b2-5c9c-4e9d-830d-30900bae41ee",
   "metadata": {},
   "outputs": [],
   "source": [
    "resultado = modelo.fit()"
   ]
  },
  {
   "cell_type": "code",
   "execution_count": null,
   "id": "f1e95251-e098-4c25-9226-e1b54d60db6a",
   "metadata": {},
   "outputs": [],
   "source": []
  }
 ],
 "metadata": {
  "kernelspec": {
   "display_name": "Python 3 (ipykernel)",
   "language": "python",
   "name": "python3"
  },
  "language_info": {
   "codemirror_mode": {
    "name": "ipython",
    "version": 3
   },
   "file_extension": ".py",
   "mimetype": "text/x-python",
   "name": "python",
   "nbconvert_exporter": "python",
   "pygments_lexer": "ipython3",
   "version": "3.11.7"
  }
 },
 "nbformat": 4,
 "nbformat_minor": 5
}
